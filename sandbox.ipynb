{
 "cells": [
  {
   "cell_type": "code",
   "execution_count": 1,
   "metadata": {
    "collapsed": true
   },
   "outputs": [],
   "source": [
    "import numpy as np\n",
    "import scipy as sp\n",
    "import tensorflow as tf\n",
    "import tensorflow.contrib.distributions as ds"
   ]
  },
  {
   "cell_type": "code",
   "execution_count": 2,
   "metadata": {
    "collapsed": true
   },
   "outputs": [],
   "source": [
    "sess = tf.InteractiveSession()"
   ]
  },
  {
   "cell_type": "code",
   "execution_count": 5,
   "metadata": {
    "collapsed": true
   },
   "outputs": [],
   "source": [
    "class SteinIS(object):\n",
    "    def __init__(self): \n",
    "        self.A = tf.convert_to_tensor(np.arange(9.).reshape((3, 3)))\n",
    "        self.B = tf.convert_to_tensor(np.arange(9., 18.).reshape((3, 3)))\n",
    "        \n",
    "        \n",
    "        # Register functions for debugging\n",
    "        self.k_A_B, self.sum_grad_A_k_A_B = self.construct_map()\n",
    "        \n",
    "    def replace_none_with_zero(l):\n",
    "        return [0 if i==None else i for i in l] \n",
    "        \n",
    "    def construct_map(self):\n",
    "        # Calculate ||leader - leader'||^2/h_0, refer to leader as A as in SteinIS\n",
    "        x2_A_B_T = 2. * tf.matmul(self.A, tf.transpose(self.B)) # 100 x 100\n",
    "        A_Squared = tf.reduce_sum(tf.square(self.A), keep_dims=True, axis=1) # 100 x 1\n",
    "        B_Squared = tf.reduce_sum(tf.square(self.B), keep_dims=True, axis=1) # 100 x 1\n",
    "        A_B_Distance_Squared = A_Squared - x2_A_B_T + tf.transpose(B_Squared) # 100 x 100\n",
    "        k_A_B = tf.exp(-A_B_Distance_Squared)\n",
    "        # Can't use vanilla tf.gradients as it sums dy/dx wrt to dx, want sum dy/dx wrt to dy, tf.map_fn is not available\n",
    "#         k_A_A_list = tf.split(k_A_A, 3, axis=1)\n",
    "#         A_copies = [tf.identity(self.A) for i in k_A_A_list]\n",
    "#         grad_A_k_A_B_0 = tf.gradients(k_A_B[0], self.A)[0]\n",
    "#         grad_B0_grad_A_k_A_B_0 = tf.gradients(grad_A_k_A_B_0[0], self.B)\n",
    "        sum_grad_A_k_A_B = tf.stack([tf.matmul(tf.reshape(k_A_B[i, :], (1, -1)), -2 * (self.A - self.B[i])) for i in range(3)])\n",
    "        return k_A_B, tf.squeeze(sum_grad_A_k_A_B)"
   ]
  },
  {
   "cell_type": "code",
   "execution_count": 6,
   "metadata": {},
   "outputs": [],
   "source": [
    "model = SteinIS()\n",
    "[v, w, x, y] = sess.run([model.A, model.B, model.k_A_B, model.sum_grad_A_k_A_B])"
   ]
  },
  {
   "cell_type": "code",
   "execution_count": 7,
   "metadata": {},
   "outputs": [
    {
     "name": "stdout",
     "output_type": "stream",
     "text": [
      "[[ 0.  1.  2.]\n",
      " [ 3.  4.  5.]\n",
      " [ 6.  7.  8.]]\n",
      "[[  9.  10.  11.]\n",
      " [ 12.  13.  14.]\n",
      " [ 15.  16.  17.]]\n",
      "[[  2.92712250e-106   2.42540248e-188   7.09945017e-294]\n",
      " [  1.24794646e-047   2.92712250e-106   2.42540248e-188]\n",
      " [  1.87952882e-012   1.24794646e-047   2.92712250e-106]]\n",
      "[[  5.26882049e-105   5.26882049e-105   5.26882049e-105]\n",
      " [  2.99507151e-046   2.99507151e-046   2.99507151e-046]\n",
      " [  5.63858645e-011   5.63858645e-011   5.63858645e-011]]\n"
     ]
    }
   ],
   "source": [
    "print v\n",
    "print w\n",
    "print x\n",
    "print y\n",
    "# print z"
   ]
  },
  {
   "cell_type": "code",
   "execution_count": 8,
   "metadata": {},
   "outputs": [
    {
     "data": {
      "text/plain": [
       "array([[  5.26882049e-105,   5.26882049e-105,   5.26882049e-105]])"
      ]
     },
     "execution_count": 8,
     "metadata": {},
     "output_type": "execute_result"
    }
   ],
   "source": [
    "np.matmul(x[0].reshape((1, -1)), -2* (v - w[0]))"
   ]
  },
  {
   "cell_type": "code",
   "execution_count": null,
   "metadata": {
    "collapsed": true
   },
   "outputs": [],
   "source": []
  }
 ],
 "metadata": {
  "kernelspec": {
   "display_name": "Python 2",
   "language": "python",
   "name": "python2"
  },
  "language_info": {
   "codemirror_mode": {
    "name": "ipython",
    "version": 2
   },
   "file_extension": ".py",
   "mimetype": "text/x-python",
   "name": "python",
   "nbconvert_exporter": "python",
   "pygments_lexer": "ipython2",
   "version": "2.7.12"
  }
 },
 "nbformat": 4,
 "nbformat_minor": 2
}
