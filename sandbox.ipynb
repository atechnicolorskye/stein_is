{
 "cells": [
  {
   "cell_type": "code",
   "execution_count": 1,
   "metadata": {
    "collapsed": true
   },
   "outputs": [],
   "source": [
    "import numpy as np\n",
    "import scipy as sp\n",
    "import tensorflow as tf\n",
    "import tensorflow.contrib.distributions as ds"
   ]
  },
  {
   "cell_type": "code",
   "execution_count": 2,
   "metadata": {
    "collapsed": true
   },
   "outputs": [],
   "source": [
    "sess = tf.InteractiveSession()"
   ]
  },
  {
   "cell_type": "code",
   "execution_count": 3,
   "metadata": {},
   "outputs": [],
   "source": [
    "class SteinIS(object):\n",
    "    def __init__(self): \n",
    "        self.A = tf.convert_to_tensor(np.arange(9.).reshape((3, 3)))\n",
    "        \n",
    "        # Register functions for debugging\n",
    "        self.k_A_A, self.sum_grad_A0_k_A_A, self.A_Squared, self.A_A_Distance_Squared = self.construct_map()\n",
    "        \n",
    "    def construct_map(self):\n",
    "        # Calculate ||leader - leader'||^2/h_0, refer to leader as A as in SteinIS\n",
    "        x2_A_A_T = 2. * tf.matmul(self.A, tf.transpose(self.A)) # 100 x 100\n",
    "        A_Squared = tf.reduce_sum(tf.square(self.A), keep_dims=True, axis=1) # 100 x 1\n",
    "        A_A_Distance_Squared = A_Squared - x2_A_A_T + tf.transpose(A_Squared) # 100 x 100\n",
    "        k_A_A = tf.exp(-A_A_Distance_Squared)\n",
    "        # Can't use vanilla tf.gradients as it sums dy/dx wrt to dx, want sum dy/dx wrt to dy, tf.map_fn is not available\n",
    "        sum_grad_A0_k_A_A = tf.gradients(k_A_A[2], self.A)[0]\n",
    "        return k_A_A, sum_grad_A0_k_A_A, A_Squared, A_A_Distance_Squared"
   ]
  },
  {
   "cell_type": "code",
   "execution_count": 4,
   "metadata": {},
   "outputs": [],
   "source": [
    "model = SteinIS()\n",
    "[w, x, y, z] = sess.run([model.A, model.k_A_A[2], model.k_A_A, model.sum_grad_A0_k_A_A])"
   ]
  },
  {
   "cell_type": "code",
   "execution_count": 5,
   "metadata": {},
   "outputs": [
    {
     "name": "stdout",
     "output_type": "stream",
     "text": [
      "[[ 0.  1.  2.]\n",
      " [ 3.  4.  5.]\n",
      " [ 6.  7.  8.]]\n",
      "[  1.24794646e-47   1.87952882e-12   1.00000000e+00]\n",
      "[[  1.00000000e+00   1.87952882e-12   1.24794646e-47]\n",
      " [  1.87952882e-12   1.00000000e+00   1.87952882e-12]\n",
      " [  1.24794646e-47   1.87952882e-12   1.00000000e+00]]\n",
      "[[  1.49753576e-46   1.49753576e-46   1.49753576e-46]\n",
      " [  1.12771729e-11   1.12771729e-11   1.12771729e-11]\n",
      " [ -1.12763132e-11  -1.12763132e-11  -1.12763132e-11]]\n"
     ]
    }
   ],
   "source": [
    "print w\n",
    "print x\n",
    "print y\n",
    "print z"
   ]
  },
  {
   "cell_type": "code",
   "execution_count": 6,
   "metadata": {},
   "outputs": [
    {
     "data": {
      "text/plain": [
       "array([[-6., -6., -6.],\n",
       "       [-3., -3., -3.],\n",
       "       [ 0.,  0.,  0.]])"
      ]
     },
     "execution_count": 6,
     "metadata": {},
     "output_type": "execute_result"
    }
   ],
   "source": [
    "(w - w[2])"
   ]
  },
  {
   "cell_type": "code",
   "execution_count": 7,
   "metadata": {},
   "outputs": [
    {
     "data": {
      "text/plain": [
       "array([[  1.49753576e-46,   1.49753576e-46,   1.49753576e-46],\n",
       "       [  1.12771729e-11,   1.12771729e-11,   1.12771729e-11],\n",
       "       [ -0.00000000e+00,  -0.00000000e+00,  -0.00000000e+00]])"
      ]
     },
     "execution_count": 7,
     "metadata": {},
     "output_type": "execute_result"
    }
   ],
   "source": [
    "-2* (w - w[2]) * np.tile(x.reshape((1, 3)).T, 3)"
   ]
  },
  {
   "cell_type": "code",
   "execution_count": null,
   "metadata": {
    "collapsed": true
   },
   "outputs": [],
   "source": []
  }
 ],
 "metadata": {
  "kernelspec": {
   "display_name": "Python 2",
   "language": "python",
   "name": "python2"
  },
  "language_info": {
   "codemirror_mode": {
    "name": "ipython",
    "version": 2
   },
   "file_extension": ".py",
   "mimetype": "text/x-python",
   "name": "python",
   "nbconvert_exporter": "python",
   "pygments_lexer": "ipython2",
   "version": "2.7.12"
  }
 },
 "nbformat": 4,
 "nbformat_minor": 2
}
