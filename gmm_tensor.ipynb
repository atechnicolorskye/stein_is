{
 "cells": [
  {
   "cell_type": "code",
   "execution_count": 1,
   "metadata": {
    "collapsed": true
   },
   "outputs": [],
   "source": [
    "import numpy as np\n",
    "import scipy as sp\n",
    "import tensorflow as tf\n",
    "import tensorflow.contrib.distributions as ds"
   ]
  },
  {
   "cell_type": "code",
   "execution_count": 2,
   "metadata": {
    "collapsed": true
   },
   "outputs": [],
   "source": [
    "# Check if multivariate normal with diagonal covariance == univariate normals with independent components \n",
    "\n",
    "class GMM(object):\n",
    "    def __init__(self, mu, sigma, weights, dim):\n",
    "        # Required parameters \n",
    "        self.mu = mu\n",
    "        self.sigma = sigma\n",
    "        self.weights = weights\n",
    "        self.dim = dim\n",
    "        \n",
    "    def log_px(self, x, y):\n",
    "        # log_px = log(sum(exp(log(w_i) + log(p_i(x)))))\n",
    "        log_px, log_py = [], []\n",
    "        for i in range(weights.shape[0]):\n",
    "            mu_, sigma_ = self.mu[i] * np.ones(dim), self.sigma[i] * np.ones(dim)\n",
    "            mvn = ds.MultivariateNormalDiag(loc=mu_, scale_diag=sigma_)\n",
    "            # Calculate log_px for each component\n",
    "            log_px_i = tf.reduce_logsumexp(mvn.log_prob(x)) + tf.log(weights[i])\n",
    "            log_py_i = tf.reduce_logsumexp(mvn.log_prob(y)) + tf.log(weights[i])\n",
    "            log_px.append(log_px_i)\n",
    "            log_py.append(log_py_i)\n",
    "        return tf.reduce_logsumexp(log_px), tf.reduce_logsumexp(log_py)\n",
    "    \n",
    "    def d_log_px(self, x, y):\n",
    "        # d_log_px = 1 / exp(log(sum(exp(log(w_i) + log(p_i(x)))))) \n",
    "        #            * sum(exp(log(w_i) + log(p_i(x)) + log(-(x - mu)/sigma^2)))\n",
    "        # Use symbolic differentiation instead\n",
    "        '''\n",
    "        # To stabilise tf.log\n",
    "        log_denominator = [] # = log_px\n",
    "        log_numerator = []\n",
    "        for i in range(weights.shape[0]):\n",
    "            mu_, sigma_ = self.mu[i] * np.ones(dim), self.sigma[i] * np.ones(dim)\n",
    "            mvn = ds.MultivariateNormalDiag(loc=mu_, scale_diag=sigma_)\n",
    "            # Calculate log_px for each component\n",
    "            log_px_i = tf.reduce_logsumexp(mvn.log_prob(self.x)) + tf.log(weights[i])\n",
    "            log_denominator.append(log_px_i)\n",
    "            # Calculate precision for each component \n",
    "            pre_i = (1./(sigma_ ** 2)) * np.eye(dim)\n",
    "            # Calculate numerator for each component\n",
    "            add_term = tf.matmul(-(self.x - mu_), pre_i)\n",
    "            log_px_i_plus_add_term = log_px_i + tf.log(add_term)\n",
    "            log_numerator.append(log_px_i_plus_add_term)\n",
    "        denominator = tf.exp(tf.reduce_logsumexp(log_denominator))\n",
    "        numerator = tf.reduce_logsumexp(log_numerator, axis=1)\n",
    "        return log_numerator\n",
    "        '''\n",
    "        log_px, log_py = self.log_px(x, y)\n",
    "        return tf.gradients(log_px, [self.x]), tf.gradients(log_py, [self.y])"
   ]
  },
  {
   "cell_type": "code",
   "execution_count": 3,
   "metadata": {
    "collapsed": true
   },
   "outputs": [],
   "source": [
    "sess = tf.InteractiveSession()\n",
    "mu = np.array([1, -1]); sigma = np.sqrt(np.array([0.1, 0.05])); weights = np.array([1./3, 2./3]); dim=6\n",
    "gmm = GMM(mu, sigma, weights, dim)"
   ]
  },
  {
   "cell_type": "code",
   "execution_count": 4,
   "metadata": {
    "collapsed": true
   },
   "outputs": [],
   "source": [
    "x = -0.1 * np.ones((10, 6)).astype(np.float64)"
   ]
  },
  {
   "cell_type": "code",
   "execution_count": 5,
   "metadata": {},
   "outputs": [
    {
     "data": {
      "text/plain": [
       "-33.701830290660368"
      ]
     },
     "execution_count": 5,
     "metadata": {},
     "output_type": "execute_result"
    }
   ],
   "source": [
    "sess.run(gmm.log_px, feed_dict={gmm.x: x})"
   ]
  },
  {
   "cell_type": "code",
   "execution_count": null,
   "metadata": {
    "collapsed": true
   },
   "outputs": [],
   "source": []
  }
 ],
 "metadata": {
  "kernelspec": {
   "display_name": "Python 2",
   "language": "python",
   "name": "python2"
  },
  "language_info": {
   "codemirror_mode": {
    "name": "ipython",
    "version": 2
   },
   "file_extension": ".py",
   "mimetype": "text/x-python",
   "name": "python",
   "nbconvert_exporter": "python",
   "pygments_lexer": "ipython2",
   "version": "2.7.12"
  }
 },
 "nbformat": 4,
 "nbformat_minor": 2
}
